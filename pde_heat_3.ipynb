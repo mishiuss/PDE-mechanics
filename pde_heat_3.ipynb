{
 "cells": [
  {
   "cell_type": "code",
   "execution_count": 1,
   "metadata": {
    "ExecuteTime": {
     "end_time": "2019-01-30T09:01:39.964004Z",
     "start_time": "2019-01-30T09:01:39.418091Z"
    }
   },
   "outputs": [],
   "source": [
    "import numpy as np\n",
    "import matplotlib\n",
    "import matplotlib.pyplot as plt\n",
    "import pylab\n",
    "import seaborn\n",
    "plt.style.use('seaborn') #switch to seaborn style"
   ]
  },
  {
   "cell_type": "markdown",
   "metadata": {},
   "source": [
    "# 2D"
   ]
  },
  {
   "cell_type": "code",
   "execution_count": 3,
   "metadata": {
    "ExecuteTime": {
     "end_time": "2019-01-30T09:01:50.342773Z",
     "start_time": "2019-01-30T09:01:50.337893Z"
    }
   },
   "outputs": [],
   "source": [
    "######  Определим константы  #######\n",
    "ambient_temperature = 300. # K, температура окружающей среды To\n",
    "flame_temperature = 1000. # температура нагрева, Tl\n",
    "thermal_conductivity = 10. * 0.001 ** 2 # м2 / сек\n",
    "\n",
    "######  Определим сетку  #######\n",
    "dx = 0.001 # м, шаг сетки по оси x\n",
    "size = 100 # "
   ]
  },
  {
   "cell_type": "markdown",
   "metadata": {},
   "source": [
    "## Выбор шага\n",
    "##### Т.к. 2D - он должен бытьб в два раза меньше, чем в одномерное случае\n",
    "##### Используем явную схему - вычисляем температуру на слое по известным значениям на предудущих слоях. Схема является условно устойчивой, что приводит к тому, что при малом шаге dx мы вынуждены брать еще более мелкий шаг по времени, чтобы обеспечить устойчивость\n",
    "### h < 1/4 * (dx)**2 / thermal_conductivity"
   ]
  },
  {
   "cell_type": "code",
   "execution_count": 4,
   "metadata": {
    "ExecuteTime": {
     "end_time": "2019-01-30T09:01:51.820821Z",
     "start_time": "2019-01-30T09:01:51.812212Z"
    }
   },
   "outputs": [
    {
     "name": "stdout",
     "output_type": "stream",
     "text": [
      "h_min 0.025\n",
      "h 0.02\n",
      "num_steps: 500\n"
     ]
    }
   ],
   "source": [
    "# здесь изменяем размер шага по времени\n",
    "# h = 0.050 # сек, пороговое значение, при котором метод работает\n",
    "# h = 0.070 # метод становится нестабильным - функция температуры осциллирует с каждым шагом по оси x\n",
    "h = 1/4*(dx**2) / thermal_conductivity\n",
    "print ('h_min', h)\n",
    "h = 0.020 # сек\n",
    "print ('h', h)\n",
    "end_time = 10.0 # cек\n",
    "num_steps = int(end_time / h) \n",
    "print (\"num_steps:\", num_steps)"
   ]
  },
  {
   "cell_type": "markdown",
   "metadata": {},
   "source": [
    "## Явная схема"
   ]
  },
  {
   "cell_type": "code",
   "execution_count": 5,
   "metadata": {
    "ExecuteTime": {
     "end_time": "2019-01-30T09:01:53.100638Z",
     "start_time": "2019-01-30T09:01:53.085083Z"
    }
   },
   "outputs": [],
   "source": [
    "def heat_conduction():\n",
    "    temperatures_old = (ambient_temperature*np.ones([size, size])) # K\n",
    "    #temperatures_old = torch.from_numpy(temperatures_old)\n",
    "    for iy in range(4*size//10, 5*size//10):\n",
    "        for ix in range (4*size//10, 5*size//10):\n",
    "            temperatures_old[iy, ix] = flame_temperature\n",
    "    temperatures_new = np.copy(temperatures_old) # K\n",
    "    \n",
    "    for step in range(num_steps):\n",
    "        for iy in range(1, size - 1):\n",
    "            for ix in range(1, size - 1):\n",
    "                temp = temperatures_old[iy, ix]\n",
    "                #temperatures_new[iy, ix] = temp + h*thermal_conductivity/dx**2*(\n",
    "                temperatures_new[iy, ix] = temp + h*thermal_conductivity/dx**2*(\n",
    "                    temperatures_old[iy, ix-1] + temperatures_old[iy, ix+1] + temperatures_old[iy-1, ix] + \n",
    "                    temperatures_old[iy+1, ix] - 4.0*temp)\n",
    "        temperatures_new, temperatures_old = temperatures_old, temperatures_new    \n",
    "    return temperatures_old\n",
    "\n",
    "def plot_me():\n",
    "    #dimensions = [0, dx*size, 0, dx*size]\n",
    "    plt.imshow(temperatures, cmap = matplotlib.cm.hot, origin = 'lower')\n",
    "    #plt.imshow(temperatures, cmap = matplotlib.cm.hot, origin = 'lower', interpolation = 'spline36', extent = dimensions)\n",
    "    plt.colorbar().set_label('Температура, К')\n",
    "    plt.xlabel('Координаты X, м ', fontsize=15)     \n",
    "    plt.ylabel('Координаты Y, м ', fontsize=15)     \n",
    "    plt.show() "
   ]
  },
  {
   "cell_type": "code",
   "execution_count": 8,
   "metadata": {
    "ExecuteTime": {
     "end_time": "2019-01-30T09:02:25.717377Z",
     "start_time": "2019-01-30T09:02:19.175650Z"
    }
   },
   "outputs": [
    {
     "name": "stdout",
     "output_type": "stream",
     "text": [
      "CPU times: user 6.53 s, sys: 3.91 ms, total: 6.54 s\n",
      "Wall time: 6.53 s\n"
     ]
    }
   ],
   "source": [
    "%%time\n",
    "temperatures = heat_conduction()"
   ]
  },
  {
   "cell_type": "code",
   "execution_count": 9,
   "metadata": {
    "ExecuteTime": {
     "end_time": "2019-01-30T09:02:26.180740Z",
     "start_time": "2019-01-30T09:02:25.733447Z"
    }
   },
   "outputs": [
    {
     "data": {
      "image/png": "[encoded data removed]",
      "text/plain": [
       "<Figure size 1440x720 with 2 Axes>"
      ]
     },
     "metadata": {
      "needs_background": "light"
     },
     "output_type": "display_data"
    }
   ],
   "source": [
    "pylab.figure(figsize=(20,10))\n",
    "plot_me()"
   ]
  }
 ],
 "metadata": {
  "hide_input": false,
  "kernelspec": {
   "display_name": "Python 3",
   "language": "python",
   "name": "python3"
  },
  "language_info": {
   "codemirror_mode": {
    "name": "ipython",
    "version": 3
   },
   "file_extension": ".py",
   "mimetype": "text/x-python",
   "name": "python",
   "nbconvert_exporter": "python",
   "pygments_lexer": "ipython3",
   "version": "3.7.1"
  },
  "varInspector": {
   "cols": {
    "lenName": "40",
    "lenType": 16,
    "lenVar": "10000"
   },
   "kernels_config": {
    "python": {
     "delete_cmd_postfix": "",
     "delete_cmd_prefix": "del ",
     "library": "var_list.py",
     "varRefreshCmd": "print(var_dic_list())"
    },
    "r": {
     "delete_cmd_postfix": ") ",
     "delete_cmd_prefix": "rm(",
     "library": "var_list.r",
     "varRefreshCmd": "cat(var_dic_list()) "
    }
   },
   "types_to_exclude": [
    "module",
    "function",
    "builtin_function_or_method",
    "instance",
    "_Feature"
   ],
   "window_display": true
  }
 },
 "nbformat": 4,
 "nbformat_minor": 2
}
